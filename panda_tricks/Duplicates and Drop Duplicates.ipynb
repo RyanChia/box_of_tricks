{
 "cells": [
  {
   "cell_type": "code",
   "execution_count": 1,
   "metadata": {},
   "outputs": [],
   "source": [
    "import pandas as pd\n",
    "import numpy as np"
   ]
  },
  {
   "cell_type": "markdown",
   "metadata": {},
   "source": [
    "I would like to credit Chris Albon for this trick ... <br>\n",
    "https://chrisalbon.com/python/data_wrangling/pandas_delete_duplicates/ \n",
    "<br>\n",
    "\n",
    "for drop duplicates documentation.... \n",
    "<br>\n",
    "https://pandas.pydata.org/pandas-docs/stable/reference/api/pandas.DataFrame.drop_duplicates.html"
   ]
  },
  {
   "cell_type": "markdown",
   "metadata": {},
   "source": [
    "### Load Dataset"
   ]
  },
  {
   "cell_type": "code",
   "execution_count": 2,
   "metadata": {},
   "outputs": [
    {
     "data": {
      "text/html": [
       "<div>\n",
       "<style scoped>\n",
       "    .dataframe tbody tr th:only-of-type {\n",
       "        vertical-align: middle;\n",
       "    }\n",
       "\n",
       "    .dataframe tbody tr th {\n",
       "        vertical-align: top;\n",
       "    }\n",
       "\n",
       "    .dataframe thead th {\n",
       "        text-align: right;\n",
       "    }\n",
       "</style>\n",
       "<table border=\"1\" class=\"dataframe\">\n",
       "  <thead>\n",
       "    <tr style=\"text-align: right;\">\n",
       "      <th></th>\n",
       "      <th>first_name</th>\n",
       "      <th>last_name</th>\n",
       "      <th>age</th>\n",
       "      <th>preTestScore</th>\n",
       "      <th>postTestScore</th>\n",
       "    </tr>\n",
       "  </thead>\n",
       "  <tbody>\n",
       "    <tr>\n",
       "      <th>0</th>\n",
       "      <td>James</td>\n",
       "      <td>Mill</td>\n",
       "      <td>42</td>\n",
       "      <td>4</td>\n",
       "      <td>25</td>\n",
       "    </tr>\n",
       "    <tr>\n",
       "      <th>1</th>\n",
       "      <td>James</td>\n",
       "      <td>Mill</td>\n",
       "      <td>42</td>\n",
       "      <td>4</td>\n",
       "      <td>25</td>\n",
       "    </tr>\n",
       "    <tr>\n",
       "      <th>2</th>\n",
       "      <td>James</td>\n",
       "      <td>Mill</td>\n",
       "      <td>42</td>\n",
       "      <td>4</td>\n",
       "      <td>25</td>\n",
       "    </tr>\n",
       "    <tr>\n",
       "      <th>3</th>\n",
       "      <td>James</td>\n",
       "      <td>Mill</td>\n",
       "      <td>11</td>\n",
       "      <td>4</td>\n",
       "      <td>25</td>\n",
       "    </tr>\n",
       "    <tr>\n",
       "      <th>4</th>\n",
       "      <td>Tim</td>\n",
       "      <td>Ali</td>\n",
       "      <td>36</td>\n",
       "      <td>31</td>\n",
       "      <td>57</td>\n",
       "    </tr>\n",
       "    <tr>\n",
       "      <th>5</th>\n",
       "      <td>Jan</td>\n",
       "      <td>Polz</td>\n",
       "      <td>24</td>\n",
       "      <td>2</td>\n",
       "      <td>62</td>\n",
       "    </tr>\n",
       "    <tr>\n",
       "      <th>6</th>\n",
       "      <td>Ami</td>\n",
       "      <td>Cooze</td>\n",
       "      <td>73</td>\n",
       "      <td>3</td>\n",
       "      <td>70</td>\n",
       "    </tr>\n",
       "    <tr>\n",
       "      <th>7</th>\n",
       "      <td>Ryan</td>\n",
       "      <td>Chia</td>\n",
       "      <td>99</td>\n",
       "      <td>5</td>\n",
       "      <td>72</td>\n",
       "    </tr>\n",
       "  </tbody>\n",
       "</table>\n",
       "</div>"
      ],
      "text/plain": [
       "  first_name last_name  age  preTestScore  postTestScore\n",
       "0      James      Mill   42             4             25\n",
       "1      James      Mill   42             4             25\n",
       "2      James      Mill   42             4             25\n",
       "3      James      Mill   11             4             25\n",
       "4        Tim       Ali   36            31             57\n",
       "5        Jan      Polz   24             2             62\n",
       "6        Ami     Cooze   73             3             70\n",
       "7       Ryan      Chia   99             5             72"
      ]
     },
     "execution_count": 2,
     "metadata": {},
     "output_type": "execute_result"
    }
   ],
   "source": [
    "raw_data = {'first_name': ['James','James', 'James', 'James','Tim', 'Jan', 'Ami',\"Ryan\"], \n",
    "        'last_name': ['Mill', 'Mill','Mill', 'Mill','Ali', 'Polz', 'Cooze',\"Chia\"], \n",
    "        'age': [42, 42, 42, 11, 36, 24, 73,99], \n",
    "        'preTestScore': [4, 4, 4, 4, 31, 2, 3, 5],\n",
    "        'postTestScore': [25, 25, 25, 25, 57, 62, 70, 72]}\n",
    "\n",
    "df = pd.DataFrame(raw_data ,columns = ['first_name','last_name', 'age', 'preTestScore', 'postTestScore'])\n",
    "df"
   ]
  },
  {
   "cell_type": "markdown",
   "metadata": {},
   "source": [
    "## Difference between duplicaed and drop_duplicates"
   ]
  },
  {
   "cell_type": "markdown",
   "metadata": {},
   "source": [
    "### 1. duplicated"
   ]
  },
  {
   "cell_type": "code",
   "execution_count": 3,
   "metadata": {},
   "outputs": [
    {
     "name": "stdout",
     "output_type": "stream",
     "text": [
      "duplicated(keep = first)\n",
      "  first_name last_name  age  preTestScore  postTestScore\n",
      "1      James      Mill   42             4             25\n",
      "2      James      Mill   42             4             25\n",
      "\n",
      "duplicated(keep = last)\n",
      "  first_name last_name  age  preTestScore  postTestScore\n",
      "0      James      Mill   42             4             25\n",
      "1      James      Mill   42             4             25\n",
      "\n",
      "duplicated(keep = False)   ie means #ALL\n",
      "  first_name last_name  age  preTestScore  postTestScore\n",
      "0      James      Mill   42             4             25\n",
      "1      James      Mill   42             4             25\n",
      "2      James      Mill   42             4             25\n"
     ]
    }
   ],
   "source": [
    "print ('duplicated(keep = first)')\n",
    "print (df.loc[df.duplicated(keep = 'first'),:])\n",
    "print ('')\n",
    "print ('duplicated(keep = last)')\n",
    "print (df.loc[df.duplicated(keep = 'last'),:])\n",
    "print ('')\n",
    "print ('duplicated(keep = False)   ie means #ALL')\n",
    "print (df.loc[df.duplicated(keep = False),:])"
   ]
  },
  {
   "cell_type": "markdown",
   "metadata": {},
   "source": [
    "###  Conclusion\n",
    "Using \"duplicated\" tends to keep “more” lines if there are more than 2 entries. Hence, a good data analyst will definitely know that the dataset requires further cleaning …"
   ]
  },
  {
   "cell_type": "markdown",
   "metadata": {},
   "source": [
    "### 2. drop_duplicates"
   ]
  },
  {
   "cell_type": "code",
   "execution_count": 4,
   "metadata": {},
   "outputs": [
    {
     "name": "stdout",
     "output_type": "stream",
     "text": [
      "drop_duplicates(keep = first) index 1 and 2 dropped!\n",
      "  first_name last_name  age  preTestScore  postTestScore\n",
      "0      James      Mill   42             4             25\n",
      "3      James      Mill   11             4             25\n",
      "4        Tim       Ali   36            31             57\n",
      "5        Jan      Polz   24             2             62\n",
      "6        Ami     Cooze   73             3             70\n",
      "7       Ryan      Chia   99             5             72\n",
      "\n",
      "drop_duplicates(keep = last) index 0 and 1 dropped!\n",
      "  first_name last_name  age  preTestScore  postTestScore\n",
      "2      James      Mill   42             4             25\n",
      "3      James      Mill   11             4             25\n",
      "4        Tim       Ali   36            31             57\n",
      "5        Jan      Polz   24             2             62\n",
      "6        Ami     Cooze   73             3             70\n",
      "7       Ryan      Chia   99             5             72\n",
      "\n",
      "drop_duplicates(keep = False) --> all dropped!!! \n",
      "  first_name last_name  age  preTestScore  postTestScore\n",
      "3      James      Mill   11             4             25\n",
      "4        Tim       Ali   36            31             57\n",
      "5        Jan      Polz   24             2             62\n",
      "6        Ami     Cooze   73             3             70\n",
      "7       Ryan      Chia   99             5             72\n"
     ]
    }
   ],
   "source": [
    "print ('drop_duplicates(keep = first) index 1 and 2 dropped!')\n",
    "print (df.drop_duplicates(keep = 'first'))\n",
    "print ('')\n",
    "print ('drop_duplicates(keep = last) index 0 and 1 dropped!')\n",
    "print (df.drop_duplicates(keep = 'last'))\n",
    "print ('')\n",
    "print ('drop_duplicates(keep = False) --> all dropped!!! ')\n",
    "print (df.drop_duplicates(keep = False))"
   ]
  },
  {
   "cell_type": "markdown",
   "metadata": {},
   "source": [
    "### Conclusion: \n",
    "Using keep first/last with drop_duplicates will produce unique values"
   ]
  },
  {
   "cell_type": "raw",
   "metadata": {},
   "source": [
    "DataFrame.drop_duplicates(self, subset=None, keep='first', inplace=False)\n",
    "Return DataFrame with duplicate rows removed, optionally only considering certain columns. Indexes, including time indexes are ignored.\n",
    "\n",
    "subset : column label or sequence of labels, optional\n",
    "Only consider certain columns for identifying duplicates, by default use all of the columns\n",
    "\n",
    "keep : {‘first’, ‘last’, False}, default ‘first’\n",
    "first : Drop duplicates except for the first occurrence.\n",
    "last : Drop duplicates except for the last occurrence.\n",
    "False : Drop all duplicates.\n",
    "\n",
    "inplace : boolean, default False\n",
    "Whether to drop duplicates in place or to return a copy"
   ]
  },
  {
   "cell_type": "markdown",
   "metadata": {},
   "source": [
    "## Examples of subset"
   ]
  },
  {
   "cell_type": "code",
   "execution_count": 5,
   "metadata": {},
   "outputs": [
    {
     "data": {
      "text/html": [
       "<div>\n",
       "<style scoped>\n",
       "    .dataframe tbody tr th:only-of-type {\n",
       "        vertical-align: middle;\n",
       "    }\n",
       "\n",
       "    .dataframe tbody tr th {\n",
       "        vertical-align: top;\n",
       "    }\n",
       "\n",
       "    .dataframe thead th {\n",
       "        text-align: right;\n",
       "    }\n",
       "</style>\n",
       "<table border=\"1\" class=\"dataframe\">\n",
       "  <thead>\n",
       "    <tr style=\"text-align: right;\">\n",
       "      <th></th>\n",
       "      <th>first_name</th>\n",
       "      <th>last_name</th>\n",
       "      <th>age</th>\n",
       "      <th>preTestScore</th>\n",
       "      <th>postTestScore</th>\n",
       "    </tr>\n",
       "  </thead>\n",
       "  <tbody>\n",
       "    <tr>\n",
       "      <th>0</th>\n",
       "      <td>James</td>\n",
       "      <td>Mill</td>\n",
       "      <td>42</td>\n",
       "      <td>4</td>\n",
       "      <td>25</td>\n",
       "    </tr>\n",
       "    <tr>\n",
       "      <th>4</th>\n",
       "      <td>Tim</td>\n",
       "      <td>Ali</td>\n",
       "      <td>36</td>\n",
       "      <td>31</td>\n",
       "      <td>57</td>\n",
       "    </tr>\n",
       "    <tr>\n",
       "      <th>5</th>\n",
       "      <td>Jan</td>\n",
       "      <td>Polz</td>\n",
       "      <td>24</td>\n",
       "      <td>2</td>\n",
       "      <td>62</td>\n",
       "    </tr>\n",
       "    <tr>\n",
       "      <th>6</th>\n",
       "      <td>Ami</td>\n",
       "      <td>Cooze</td>\n",
       "      <td>73</td>\n",
       "      <td>3</td>\n",
       "      <td>70</td>\n",
       "    </tr>\n",
       "    <tr>\n",
       "      <th>7</th>\n",
       "      <td>Ryan</td>\n",
       "      <td>Chia</td>\n",
       "      <td>99</td>\n",
       "      <td>5</td>\n",
       "      <td>72</td>\n",
       "    </tr>\n",
       "  </tbody>\n",
       "</table>\n",
       "</div>"
      ],
      "text/plain": [
       "  first_name last_name  age  preTestScore  postTestScore\n",
       "0      James      Mill   42             4             25\n",
       "4        Tim       Ali   36            31             57\n",
       "5        Jan      Polz   24             2             62\n",
       "6        Ami     Cooze   73             3             70\n",
       "7       Ryan      Chia   99             5             72"
      ]
     },
     "execution_count": 5,
     "metadata": {},
     "output_type": "execute_result"
    }
   ],
   "source": [
    "df.drop_duplicates(subset=['first_name', 'last_name'], keep = 'first')\n",
    "# notice index 1,2 and 3 are dropped... "
   ]
  },
  {
   "cell_type": "code",
   "execution_count": 6,
   "metadata": {},
   "outputs": [
    {
     "data": {
      "text/html": [
       "<div>\n",
       "<style scoped>\n",
       "    .dataframe tbody tr th:only-of-type {\n",
       "        vertical-align: middle;\n",
       "    }\n",
       "\n",
       "    .dataframe tbody tr th {\n",
       "        vertical-align: top;\n",
       "    }\n",
       "\n",
       "    .dataframe thead th {\n",
       "        text-align: right;\n",
       "    }\n",
       "</style>\n",
       "<table border=\"1\" class=\"dataframe\">\n",
       "  <thead>\n",
       "    <tr style=\"text-align: right;\">\n",
       "      <th></th>\n",
       "      <th>first_name</th>\n",
       "      <th>last_name</th>\n",
       "      <th>age</th>\n",
       "      <th>preTestScore</th>\n",
       "      <th>postTestScore</th>\n",
       "    </tr>\n",
       "  </thead>\n",
       "  <tbody>\n",
       "    <tr>\n",
       "      <th>0</th>\n",
       "      <td>James</td>\n",
       "      <td>Mill</td>\n",
       "      <td>42</td>\n",
       "      <td>4</td>\n",
       "      <td>25</td>\n",
       "    </tr>\n",
       "    <tr>\n",
       "      <th>3</th>\n",
       "      <td>James</td>\n",
       "      <td>Mill</td>\n",
       "      <td>11</td>\n",
       "      <td>4</td>\n",
       "      <td>25</td>\n",
       "    </tr>\n",
       "    <tr>\n",
       "      <th>4</th>\n",
       "      <td>Tim</td>\n",
       "      <td>Ali</td>\n",
       "      <td>36</td>\n",
       "      <td>31</td>\n",
       "      <td>57</td>\n",
       "    </tr>\n",
       "    <tr>\n",
       "      <th>5</th>\n",
       "      <td>Jan</td>\n",
       "      <td>Polz</td>\n",
       "      <td>24</td>\n",
       "      <td>2</td>\n",
       "      <td>62</td>\n",
       "    </tr>\n",
       "    <tr>\n",
       "      <th>6</th>\n",
       "      <td>Ami</td>\n",
       "      <td>Cooze</td>\n",
       "      <td>73</td>\n",
       "      <td>3</td>\n",
       "      <td>70</td>\n",
       "    </tr>\n",
       "    <tr>\n",
       "      <th>7</th>\n",
       "      <td>Ryan</td>\n",
       "      <td>Chia</td>\n",
       "      <td>99</td>\n",
       "      <td>5</td>\n",
       "      <td>72</td>\n",
       "    </tr>\n",
       "  </tbody>\n",
       "</table>\n",
       "</div>"
      ],
      "text/plain": [
       "  first_name last_name  age  preTestScore  postTestScore\n",
       "0      James      Mill   42             4             25\n",
       "3      James      Mill   11             4             25\n",
       "4        Tim       Ali   36            31             57\n",
       "5        Jan      Polz   24             2             62\n",
       "6        Ami     Cooze   73             3             70\n",
       "7       Ryan      Chia   99             5             72"
      ]
     },
     "execution_count": 6,
     "metadata": {},
     "output_type": "execute_result"
    }
   ],
   "source": [
    "df.drop_duplicates(subset=['first_name', 'last_name','age'], keep = 'first')\n",
    "# notice  only index 1 and 2 are dropped... "
   ]
  },
  {
   "cell_type": "markdown",
   "metadata": {},
   "source": [
    "Remember: drop_duplicates are usually used with concat!"
   ]
  }
 ],
 "metadata": {
  "kernelspec": {
   "display_name": "Python 3",
   "language": "python",
   "name": "python3"
  },
  "language_info": {
   "codemirror_mode": {
    "name": "ipython",
    "version": 3
   },
   "file_extension": ".py",
   "mimetype": "text/x-python",
   "name": "python",
   "nbconvert_exporter": "python",
   "pygments_lexer": "ipython3",
   "version": "3.5.5"
  }
 },
 "nbformat": 4,
 "nbformat_minor": 2
}
