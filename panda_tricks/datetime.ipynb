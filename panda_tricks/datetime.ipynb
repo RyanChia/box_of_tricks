stocks_and_bonds = pd.DataFrame()

stocks_and_bonds['observation_date'] = ['2007-06-11','2007-06-12','2007-06-13','2007-06-14','2007-06-15']
stocks_and_bonds['SP500'] = [1509.12,1493.00,1515.67,1522.97,1532.91]
stocks_and_bonds['US10Y'] = [5.14, 5.26, 5.2, 5.23, 5.16]

stocks_and_bonds = stocks_and_bonds.set_index('observation_date')
stocks_and_bonds.index = pd.to_datetime(stocks_and_bonds.index)
